{
 "cells": [
  {
   "cell_type": "markdown",
   "id": "6f71d129",
   "metadata": {},
   "source": [
    "# Walmart sales data analysis\n",
    "\n",
    "## Aim\n",
    "\n",
    "To predict aggregate monthly sales using Regression models over Walmart dataset."
   ]
  },
  {
   "cell_type": "code",
   "execution_count": 1,
   "id": "819ba129",
   "metadata": {},
   "outputs": [],
   "source": [
    "import pandas as pd"
   ]
  },
  {
   "cell_type": "markdown",
   "id": "7002ba7b",
   "metadata": {},
   "source": [
    "## Loading Data into dataframes"
   ]
  },
  {
   "cell_type": "code",
   "execution_count": 2,
   "id": "61e2faba",
   "metadata": {},
   "outputs": [],
   "source": [
    "train = pd.read_csv(\"./data/train.csv\")\n",
    "stores = pd.read_csv(\"./data/stores.csv\")\n",
    "features = pd.read_csv(\"./data/features.csv\")"
   ]
  },
  {
   "cell_type": "markdown",
   "id": "229150ca",
   "metadata": {},
   "source": [
    "## Exploring data"
   ]
  },
  {
   "cell_type": "markdown",
   "id": "f4341671",
   "metadata": {},
   "source": [
    "**Total rows are 8190.**\n",
    "\n",
    "**There are twelve columns.**"
   ]
  },
  {
   "cell_type": "code",
   "execution_count": 3,
   "id": "9632deb5",
   "metadata": {},
   "outputs": [
    {
     "output_type": "stream",
     "name": "stdout",
     "text": [
      "<class 'pandas.core.frame.DataFrame'>\nRangeIndex: 8190 entries, 0 to 8189\nData columns (total 12 columns):\n #   Column        Non-Null Count  Dtype  \n---  ------        --------------  -----  \n 0   Store         8190 non-null   int64  \n 1   Date          8190 non-null   object \n 2   Temperature   8190 non-null   float64\n 3   Fuel_Price    8190 non-null   float64\n 4   MarkDown1     4032 non-null   float64\n 5   MarkDown2     2921 non-null   float64\n 6   MarkDown3     3613 non-null   float64\n 7   MarkDown4     3464 non-null   float64\n 8   MarkDown5     4050 non-null   float64\n 9   CPI           7605 non-null   float64\n 10  Unemployment  7605 non-null   float64\n 11  IsHoliday     8190 non-null   bool   \ndtypes: bool(1), float64(9), int64(1), object(1)\nmemory usage: 712.0+ KB\n"
     ]
    }
   ],
   "source": [
    "features.info() #can be shown on the web page"
   ]
  },
  {
   "cell_type": "markdown",
   "id": "54591159",
   "metadata": {},
   "source": [
    "- Date is recognised as an \"Object\" by pandas.\n",
    "- It means that it is not recognised as any pre-defined Python type"
   ]
  },
  {
   "cell_type": "markdown",
   "id": "0f8a32ca",
   "metadata": {},
   "source": [
    "### Getting an overview of data"
   ]
  },
  {
   "cell_type": "code",
   "execution_count": 4,
   "id": "d69288f7",
   "metadata": {},
   "outputs": [
    {
     "output_type": "execute_result",
     "data": {
      "text/plain": [
       "             Store  Temperature   Fuel_Price      MarkDown1      MarkDown2  \\\n",
       "count  8190.000000  8190.000000  8190.000000    4032.000000    2921.000000   \n",
       "mean     23.000000    59.356198     3.405992    7032.371786    3384.176594   \n",
       "std      12.987966    18.678607     0.431337    9262.747448    8793.583016   \n",
       "min       1.000000    -7.290000     2.472000   -2781.450000    -265.760000   \n",
       "25%      12.000000    45.902500     3.041000    1577.532500      68.880000   \n",
       "50%      23.000000    60.710000     3.513000    4743.580000     364.570000   \n",
       "75%      34.000000    73.880000     3.743000    8923.310000    2153.350000   \n",
       "max      45.000000   101.950000     4.468000  103184.980000  104519.540000   \n",
       "\n",
       "           MarkDown3     MarkDown4      MarkDown5          CPI  Unemployment  \n",
       "count    3613.000000   3464.000000    4050.000000  7605.000000   7605.000000  \n",
       "mean     1760.100180   3292.935886    4132.216422   172.460809      7.826821  \n",
       "std     11276.462208   6792.329861   13086.690278    39.738346      1.877259  \n",
       "min      -179.260000      0.220000    -185.170000   126.064000      3.684000  \n",
       "25%         6.600000    304.687500    1440.827500   132.364839      6.634000  \n",
       "50%        36.260000   1176.425000    2727.135000   182.764003      7.806000  \n",
       "75%       163.150000   3310.007500    4832.555000   213.932412      8.567000  \n",
       "max    149483.310000  67474.850000  771448.100000   228.976456     14.313000  "
      ],
      "text/html": "<div>\n<style scoped>\n    .dataframe tbody tr th:only-of-type {\n        vertical-align: middle;\n    }\n\n    .dataframe tbody tr th {\n        vertical-align: top;\n    }\n\n    .dataframe thead th {\n        text-align: right;\n    }\n</style>\n<table border=\"1\" class=\"dataframe\">\n  <thead>\n    <tr style=\"text-align: right;\">\n      <th></th>\n      <th>Store</th>\n      <th>Temperature</th>\n      <th>Fuel_Price</th>\n      <th>MarkDown1</th>\n      <th>MarkDown2</th>\n      <th>MarkDown3</th>\n      <th>MarkDown4</th>\n      <th>MarkDown5</th>\n      <th>CPI</th>\n      <th>Unemployment</th>\n    </tr>\n  </thead>\n  <tbody>\n    <tr>\n      <th>count</th>\n      <td>8190.000000</td>\n      <td>8190.000000</td>\n      <td>8190.000000</td>\n      <td>4032.000000</td>\n      <td>2921.000000</td>\n      <td>3613.000000</td>\n      <td>3464.000000</td>\n      <td>4050.000000</td>\n      <td>7605.000000</td>\n      <td>7605.000000</td>\n    </tr>\n    <tr>\n      <th>mean</th>\n      <td>23.000000</td>\n      <td>59.356198</td>\n      <td>3.405992</td>\n      <td>7032.371786</td>\n      <td>3384.176594</td>\n      <td>1760.100180</td>\n      <td>3292.935886</td>\n      <td>4132.216422</td>\n      <td>172.460809</td>\n      <td>7.826821</td>\n    </tr>\n    <tr>\n      <th>std</th>\n      <td>12.987966</td>\n      <td>18.678607</td>\n      <td>0.431337</td>\n      <td>9262.747448</td>\n      <td>8793.583016</td>\n      <td>11276.462208</td>\n      <td>6792.329861</td>\n      <td>13086.690278</td>\n      <td>39.738346</td>\n      <td>1.877259</td>\n    </tr>\n    <tr>\n      <th>min</th>\n      <td>1.000000</td>\n      <td>-7.290000</td>\n      <td>2.472000</td>\n      <td>-2781.450000</td>\n      <td>-265.760000</td>\n      <td>-179.260000</td>\n      <td>0.220000</td>\n      <td>-185.170000</td>\n      <td>126.064000</td>\n      <td>3.684000</td>\n    </tr>\n    <tr>\n      <th>25%</th>\n      <td>12.000000</td>\n      <td>45.902500</td>\n      <td>3.041000</td>\n      <td>1577.532500</td>\n      <td>68.880000</td>\n      <td>6.600000</td>\n      <td>304.687500</td>\n      <td>1440.827500</td>\n      <td>132.364839</td>\n      <td>6.634000</td>\n    </tr>\n    <tr>\n      <th>50%</th>\n      <td>23.000000</td>\n      <td>60.710000</td>\n      <td>3.513000</td>\n      <td>4743.580000</td>\n      <td>364.570000</td>\n      <td>36.260000</td>\n      <td>1176.425000</td>\n      <td>2727.135000</td>\n      <td>182.764003</td>\n      <td>7.806000</td>\n    </tr>\n    <tr>\n      <th>75%</th>\n      <td>34.000000</td>\n      <td>73.880000</td>\n      <td>3.743000</td>\n      <td>8923.310000</td>\n      <td>2153.350000</td>\n      <td>163.150000</td>\n      <td>3310.007500</td>\n      <td>4832.555000</td>\n      <td>213.932412</td>\n      <td>8.567000</td>\n    </tr>\n    <tr>\n      <th>max</th>\n      <td>45.000000</td>\n      <td>101.950000</td>\n      <td>4.468000</td>\n      <td>103184.980000</td>\n      <td>104519.540000</td>\n      <td>149483.310000</td>\n      <td>67474.850000</td>\n      <td>771448.100000</td>\n      <td>228.976456</td>\n      <td>14.313000</td>\n    </tr>\n  </tbody>\n</table>\n</div>"
     },
     "metadata": {},
     "execution_count": 4
    }
   ],
   "source": [
    "features.describe()\n",
    "#can also be shown on the web page\n",
    "# Analysis and calculations regarding quantitative columns"
   ]
  },
  {
   "cell_type": "code",
   "execution_count": 5,
   "id": "4337ebd7",
   "metadata": {},
   "outputs": [
    {
     "output_type": "execute_result",
     "data": {
      "text/plain": [
       "              Date\n",
       "count         8190\n",
       "unique         182\n",
       "top     2012-07-20\n",
       "freq            45"
      ],
      "text/html": "<div>\n<style scoped>\n    .dataframe tbody tr th:only-of-type {\n        vertical-align: middle;\n    }\n\n    .dataframe tbody tr th {\n        vertical-align: top;\n    }\n\n    .dataframe thead th {\n        text-align: right;\n    }\n</style>\n<table border=\"1\" class=\"dataframe\">\n  <thead>\n    <tr style=\"text-align: right;\">\n      <th></th>\n      <th>Date</th>\n    </tr>\n  </thead>\n  <tbody>\n    <tr>\n      <th>count</th>\n      <td>8190</td>\n    </tr>\n    <tr>\n      <th>unique</th>\n      <td>182</td>\n    </tr>\n    <tr>\n      <th>top</th>\n      <td>2012-07-20</td>\n    </tr>\n    <tr>\n      <th>freq</th>\n      <td>45</td>\n    </tr>\n  </tbody>\n</table>\n</div>"
     },
     "metadata": {},
     "execution_count": 5
    }
   ],
   "source": [
    "# Including object\n",
    "# Date column\n",
    "features.describe(include=object)"
   ]
  },
  {
   "cell_type": "code",
   "execution_count": 6,
   "id": "b93b2f2c",
   "metadata": {},
   "outputs": [
    {
     "output_type": "execute_result",
     "data": {
      "text/plain": [
       "       IsHoliday\n",
       "count       8190\n",
       "unique         2\n",
       "top        False\n",
       "freq        7605"
      ],
      "text/html": "<div>\n<style scoped>\n    .dataframe tbody tr th:only-of-type {\n        vertical-align: middle;\n    }\n\n    .dataframe tbody tr th {\n        vertical-align: top;\n    }\n\n    .dataframe thead th {\n        text-align: right;\n    }\n</style>\n<table border=\"1\" class=\"dataframe\">\n  <thead>\n    <tr style=\"text-align: right;\">\n      <th></th>\n      <th>IsHoliday</th>\n    </tr>\n  </thead>\n  <tbody>\n    <tr>\n      <th>count</th>\n      <td>8190</td>\n    </tr>\n    <tr>\n      <th>unique</th>\n      <td>2</td>\n    </tr>\n    <tr>\n      <th>top</th>\n      <td>False</td>\n    </tr>\n    <tr>\n      <th>freq</th>\n      <td>7605</td>\n    </tr>\n  </tbody>\n</table>\n</div>"
     },
     "metadata": {},
     "execution_count": 6
    }
   ],
   "source": [
    "# Including object\n",
    "# Date column\n",
    "features.describe(include=bool)"
   ]
  },
  {
   "cell_type": "code",
   "execution_count": 7,
   "id": "b65190af",
   "metadata": {},
   "outputs": [
    {
     "output_type": "execute_result",
     "data": {
      "text/plain": [
       "Store           8190\n",
       "Date            8190\n",
       "Temperature     8190\n",
       "Fuel_Price      8190\n",
       "MarkDown1       4032\n",
       "MarkDown2       2921\n",
       "MarkDown3       3613\n",
       "MarkDown4       3464\n",
       "MarkDown5       4050\n",
       "CPI             7605\n",
       "Unemployment    7605\n",
       "IsHoliday       8190\n",
       "dtype: int64"
      ]
     },
     "metadata": {},
     "execution_count": 7
    }
   ],
   "source": [
    "features.count()"
   ]
  },
  {
   "cell_type": "code",
   "execution_count": 8,
   "id": "b9ff4f2f",
   "metadata": {},
   "outputs": [
    {
     "output_type": "execute_result",
     "data": {
      "text/plain": [
       "Store              0\n",
       "Date               0\n",
       "Temperature        0\n",
       "Fuel_Price         0\n",
       "MarkDown1       4158\n",
       "MarkDown2       5269\n",
       "MarkDown3       4577\n",
       "MarkDown4       4726\n",
       "MarkDown5       4140\n",
       "CPI              585\n",
       "Unemployment     585\n",
       "IsHoliday          0\n",
       "dtype: int64"
      ]
     },
     "metadata": {},
     "execution_count": 8
    }
   ],
   "source": [
    "# Counting Null values\n",
    "features.isna().sum()"
   ]
  },
  {
   "cell_type": "code",
   "execution_count": 9,
   "id": "4aa81374",
   "metadata": {},
   "outputs": [
    {
     "output_type": "stream",
     "name": "stdout",
     "text": [
      "45\n"
     ]
    },
    {
     "output_type": "execute_result",
     "data": {
      "text/plain": [
       "Store    0\n",
       "Type     0\n",
       "Size     0\n",
       "dtype: int64"
      ]
     },
     "metadata": {},
     "execution_count": 9
    }
   ],
   "source": [
    "print(len(stores))\n",
    "stores.isna().sum()"
   ]
  },
  {
   "cell_type": "code",
   "execution_count": 10,
   "id": "3f7e7b68",
   "metadata": {},
   "outputs": [
    {
     "output_type": "stream",
     "name": "stdout",
     "text": [
      "421570\n"
     ]
    },
    {
     "output_type": "execute_result",
     "data": {
      "text/plain": [
       "Store           0\n",
       "Dept            0\n",
       "Date            0\n",
       "Weekly_Sales    0\n",
       "IsHoliday       0\n",
       "dtype: int64"
      ]
     },
     "metadata": {},
     "execution_count": 10
    }
   ],
   "source": [
    "print(len(train))\n",
    "train.isna().sum()"
   ]
  },
  {
   "cell_type": "markdown",
   "id": "b6f2f0bf",
   "metadata": {},
   "source": [
    "## References\n",
    "\n",
    "- https://ipywidgets.readthedocs.io/en/latest/examples/Widget%20List.html\n",
    "- https://pandas.pydata.org/pandas-docs/stable/user_guide/merging.html\n",
    "- https://medium.com/analytics-vidhya/walmart-sales-forecasting-d6bd537e4904\n",
    "- https://stackoverflow.com/questions/5137497/find-current-directory-and-files-directory\n",
    "- https://stackoverflow.com/questions/19790790/splitting-dataframe-into-multiple-dataframes\n",
    "- https://stackoverflow.com/questions/38913965/make-the-size-of-a-heatmap-bigger-with-seaborn\n",
    "- https://datascience.stackexchange.com/questions/9159/when-to-choose-linear-regression-or-decision-tree-or-random-forest-regression\n",
    "- https://datascience.stackexchange.com/questions/6838/when-to-use-random-forest-over-svm-and-vice-versa\n",
    "- https://realpython.com/pandas-python-explore-dataset/"
   ]
  },
  {
   "cell_type": "code",
   "execution_count": null,
   "id": "f9476bc3",
   "metadata": {},
   "outputs": [],
   "source": []
  }
 ],
 "metadata": {
  "kernelspec": {
   "name": "python3",
   "display_name": "Python 3.8.5 64-bit ('env': venv)"
  },
  "language_info": {
   "codemirror_mode": {
    "name": "ipython",
    "version": 3
   },
   "file_extension": ".py",
   "mimetype": "text/x-python",
   "name": "python",
   "nbconvert_exporter": "python",
   "pygments_lexer": "ipython3",
   "version": "3.8.5"
  },
  "interpreter": {
   "hash": "3eec571c60052d6581dc02ba0c516fbfd787165d8189acb3fdd966e6a33f2143"
  }
 },
 "nbformat": 4,
 "nbformat_minor": 5
}