{
 "cells": [
  {
   "cell_type": "markdown",
   "id": "6f71d129",
   "metadata": {},
   "source": [
    "# Walmart sales data analysis\n",
    "\n",
    "## Aim\n",
    "\n",
    "To predict aggregate monthly sales using Regression models over Walmart dataset.\n",
    "\n",
    "## Objectives\n",
    "- Getting familiar with data analysis techniques\n",
    "- Learning about prediction models/algorithms through experimentation\n",
    "\n",
    "## Methodology\n",
    "\n",
    "- Step 0: Environment Setup\n",
    "- Step 1: Reading data\n",
    "- Step 2: Merging and correlation analysis\n",
    "- Step 3: Testing different prediction algorithms\n",
    "- Step 4: Inserting small UI elements to customise algorithms and dataframes"
   ]
  },
  {
   "cell_type": "code",
   "execution_count": null,
   "id": "819ba129",
   "metadata": {},
   "outputs": [],
   "source": [
    "import matplotlib.pyplot as plt\n",
    "import datetime\n",
    "import numpy as np\n",
    "import pandas as pd  \n",
    "import seaborn as sns\n",
    "from sklearn.linear_model import LinearRegression\n",
    "from sklearn.metrics import mean_squared_error\n",
    "from sklearn.metrics import r2_score\n",
    "from sklearn.model_selection import train_test_split\n",
    "from ipywidgets import widgets\n",
    "from IPython.display import display\n",
    "from calendar import month_name\n",
    "import sys\n",
    "\n",
    "import os\n",
    "current_dir = os.getcwd()\n",
    "sys.path.insert(1, current_dir + \"/project\")\n",
    "\n",
    "import algorithm.implementation_knn as knn_i\n",
    "import algorithm.implementation_rf as rf\n",
    "import algorithm.implementation_dtree as lr\n",
    "import utils.implementation_scaler as sc\n",
    "import utils.implementation_error as er\n",
    "%matplotlib inline"
   ]
  },
  {
   "cell_type": "markdown",
   "id": "7002ba7b",
   "metadata": {},
   "source": [
    "## Loading Data into dataframes"
   ]
  },
  {
   "cell_type": "code",
   "execution_count": null,
   "id": "61e2faba",
   "metadata": {},
   "outputs": [],
   "source": [
    "train = pd.read_csv(\"./data/train.csv\")\n",
    "#test = pd.read_csv(\"./data/test.csv\")\n",
    "stores = pd.read_csv(\"./data/stores.csv\")\n",
    "features = pd.read_csv(\"./data/features.csv\")"
   ]
  },
  {
   "cell_type": "markdown",
   "id": "229150ca",
   "metadata": {},
   "source": [
    "## Exploring data"
   ]
  },
  {
   "cell_type": "code",
   "execution_count": null,
   "id": "09f8fac4",
   "metadata": {},
   "outputs": [],
   "source": [
    "# finding length\n",
    "print(len(features))\n",
    "\n",
    "# finding dimentionality\n",
    "features.shape"
   ]
  },
  {
   "cell_type": "markdown",
   "id": "f4341671",
   "metadata": {},
   "source": [
    "**Total rows are 8190.**\n",
    "\n",
    "**There are twelve columns.**"
   ]
  },
  {
   "cell_type": "code",
   "execution_count": null,
   "id": "7f8ff02d",
   "metadata": {},
   "outputs": [],
   "source": [
    "features.head()"
   ]
  },
  {
   "cell_type": "code",
   "execution_count": null,
   "id": "c7cfa4e3",
   "metadata": {},
   "outputs": [],
   "source": [
    "features.tail()"
   ]
  },
  {
   "cell_type": "code",
   "execution_count": null,
   "id": "817ba0ba",
   "metadata": {},
   "outputs": [],
   "source": [
    "stores.head()"
   ]
  },
  {
   "cell_type": "code",
   "execution_count": null,
   "id": "3280f504",
   "metadata": {},
   "outputs": [],
   "source": [
    "stores.tail()"
   ]
  },
  {
   "cell_type": "code",
   "execution_count": null,
   "id": "0b817571",
   "metadata": {},
   "outputs": [],
   "source": [
    "train.head()"
   ]
  },
  {
   "cell_type": "code",
   "execution_count": null,
   "id": "5f5a6341",
   "metadata": {},
   "outputs": [],
   "source": [
    "train.tail()"
   ]
  },
  {
   "cell_type": "code",
   "execution_count": null,
   "id": "9632deb5",
   "metadata": {},
   "outputs": [],
   "source": [
    "features.info()"
   ]
  },
  {
   "cell_type": "markdown",
   "id": "54591159",
   "metadata": {},
   "source": [
    "- Date is recognised as an \"Object\" by pandas.\n",
    "- It means that it is not recognised as any pre-defined Python type"
   ]
  },
  {
   "cell_type": "markdown",
   "id": "0f8a32ca",
   "metadata": {},
   "source": [
    "### Getting an overview of data"
   ]
  },
  {
   "cell_type": "code",
   "execution_count": null,
   "id": "d69288f7",
   "metadata": {},
   "outputs": [],
   "source": [
    "features.describe()\n",
    "# Analysis and calculations regarding quantitative columns"
   ]
  },
  {
   "cell_type": "code",
   "execution_count": null,
   "id": "4337ebd7",
   "metadata": {},
   "outputs": [],
   "source": [
    "# Including object\n",
    "# Date column\n",
    "features.describe(include=object)"
   ]
  },
  {
   "cell_type": "code",
   "execution_count": null,
   "id": "b93b2f2c",
   "metadata": {},
   "outputs": [],
   "source": [
    "# Including object\n",
    "# Date column\n",
    "features.describe(include=bool)"
   ]
  },
  {
   "cell_type": "code",
   "execution_count": null,
   "id": "b65190af",
   "metadata": {},
   "outputs": [],
   "source": [
    "features.count()"
   ]
  },
  {
   "cell_type": "code",
   "execution_count": null,
   "id": "b9ff4f2f",
   "metadata": {},
   "outputs": [],
   "source": [
    "# Counting Null values\n",
    "features.isna().sum()"
   ]
  },
  {
   "cell_type": "code",
   "execution_count": null,
   "id": "4aa81374",
   "metadata": {},
   "outputs": [],
   "source": [
    "print(len(stores))\n",
    "stores.isna().sum()"
   ]
  },
  {
   "cell_type": "code",
   "execution_count": null,
   "id": "3f7e7b68",
   "metadata": {},
   "outputs": [],
   "source": [
    "print(len(train))\n",
    "train.isna().sum()"
   ]
  },
  {
   "cell_type": "markdown",
   "id": "0fe39ed8",
   "metadata": {},
   "source": [
    "## Cleaning the data"
   ]
  },
  {
   "cell_type": "code",
   "execution_count": null,
   "id": "7bf60206",
   "metadata": {
    "scrolled": true
   },
   "outputs": [],
   "source": [
    "for i in range(1, 6):\n",
    "    features[f\"MarkDown{i}\"] = features[f\"MarkDown{i}\"].fillna(0)\n",
    "    #features[f\"MarkDown{i}\"] = features[f\"MarkDown{i}\"].fillna(np.mean(features[f\"MarkDown{i}\"]))\n",
    "# CPI and Unemployment will be substituted by mean\n",
    "features[\"Unemployment\"] = features[\"Unemployment\"].fillna(np.mean(features[\"Unemployment\"]))\n",
    "features[\"CPI\"] = features[\"CPI\"].fillna(np.mean(features[\"CPI\"]))\n",
    "\n",
    "#knn_impute(target=features[''], attributes=df.drop(['Age', 'PassengerId'], 1),\n",
    "#                                    aggregation_method=\"median\", k_neighbors=10, numeric_distance='euclidean',\n",
    "#                                    categorical_distance='hamming', missing_neighbors_threshold=0.8)"
   ]
  },
  {
   "cell_type": "code",
   "execution_count": null,
   "id": "b0b3b33f",
   "metadata": {
    "scrolled": true
   },
   "outputs": [],
   "source": [
    "features.head()"
   ]
  },
  {
   "cell_type": "code",
   "execution_count": null,
   "id": "21c95ba7",
   "metadata": {
    "scrolled": true
   },
   "outputs": [],
   "source": [
    "print(len(pd.unique(features[\"Store\"])))"
   ]
  },
  {
   "cell_type": "code",
   "execution_count": null,
   "id": "2d6dd6ee",
   "metadata": {},
   "outputs": [],
   "source": [
    "print(len(pd.unique(train[\"IsHoliday\"])))"
   ]
  },
  {
   "cell_type": "code",
   "execution_count": null,
   "id": "79dd8239",
   "metadata": {
    "scrolled": true
   },
   "outputs": [],
   "source": [
    "main = pd.merge(train, stores, on = \"Store\", how = \"right\", sort = False, )\n",
    "main = pd.merge(main, features, on = [\"Store\", \"Date\"], how = \"left\", sort = False)\n",
    "\n",
    "# Sorting the dataframe by date\n",
    "\n",
    "main = main.sort_values(by=[\"Date\"])\n",
    "\n",
    "\n",
    "main[\"Month\"] = pd.to_datetime(main[\"Date\"]).dt.month\n",
    "main[\"Year\"] = pd.to_datetime(main[\"Date\"]).dt.year\n",
    "\n",
    "main = main.sort_values(by=[\"Month\", \"Year\"])\n"
   ]
  },
  {
   "cell_type": "code",
   "execution_count": null,
   "id": "e5671091",
   "metadata": {
    "scrolled": true
   },
   "outputs": [],
   "source": [
    "main.head()"
   ]
  },
  {
   "cell_type": "code",
   "execution_count": null,
   "id": "3124772f",
   "metadata": {
    "scrolled": true
   },
   "outputs": [],
   "source": [
    "# filling in missing values\n",
    "\n",
    "#from knnimpute import optimistic\n",
    "# Calculating missing mask for main[\"MarkDown1\"]\n",
    "#mm = []\n",
    "\n",
    "#mm = main[\"MarkDown1\"].apply(lambda e:True if e == None else False)\n",
    "#type(main[\"MarkDown1\"])\n",
    "#main[\"MarkDown1\"] = optimistic.knn_impute_optimistic(X = pd.core.series.Series(main[\"MarkDown1\"]),missing_mask = mm ,k = 10)"
   ]
  },
  {
   "cell_type": "code",
   "execution_count": null,
   "id": "7565e2f7",
   "metadata": {
    "scrolled": false
   },
   "outputs": [],
   "source": [
    "bar_plot = sns.barplot(x=\"Month\", y=\"Weekly_Sales\",  data=main)\n",
    "bar_plot.set_xticklabels(bar_plot.get_xticklabels(), fontsize=8)"
   ]
  },
  {
   "cell_type": "code",
   "execution_count": null,
   "id": "027352c9",
   "metadata": {},
   "outputs": [],
   "source": [
    "len(main)"
   ]
  },
  {
   "cell_type": "code",
   "execution_count": null,
   "id": "bb091327",
   "metadata": {
    "scrolled": true
   },
   "outputs": [],
   "source": [
    "# IsHoliday_x and IsHoliday_y are duplicates\n",
    "main[\"IsHoliday\"] = main[\"IsHoliday_y\"]\n",
    "main.drop(labels=[\"IsHoliday_y\", \"IsHoliday_x\"], axis = 'columns', inplace=True)\n",
    "\n",
    "# dropping MarkDown4\n",
    "main = main.drop(labels=[\"MarkDown4\"], axis = 'columns')\n",
    "\n",
    "# Combining other MarkDowns into one\n",
    "#main[\"MarkDown\"] = main[\"MarkDown1\"] + main[\"MarkDown2\"] + main[\"MarkDown3\"] + main[\"MarkDown5\"]\n",
    "#main = main.drop(labels=[\"MarkDown1\", \"MarkDown2\", \"MarkDown3\", \"MarkDown5\"], axis = 'columns')"
   ]
  },
  {
   "cell_type": "code",
   "execution_count": null,
   "id": "7a318456",
   "metadata": {
    "scrolled": false
   },
   "outputs": [],
   "source": [
    "correlation_matrix = main.corr().round(3)\n",
    "\n",
    "figure, axes = plt.subplots(figsize=(12,12))\n",
    "sns.heatmap(correlation_matrix, annot=True, linewidths=.7, ax=axes)"
   ]
  },
  {
   "cell_type": "markdown",
   "id": "da7eb254",
   "metadata": {},
   "source": [
    "#### Observations\n",
    "\n",
    "- **High positive correlation with Weekly_Sales**\n",
    "  - Dept - .15\n",
    "  - Size - .24\n",
    "- **High negative correlation with Weekly_Sales**\n",
    "  - NA\n",
    "\n",
    "- MarkDown1 and MarkDown4 are highly correlated so only taking one of them should be sufficient. ~Also, summing up MarkDowns is a good idea.~"
   ]
  },
  {
   "cell_type": "markdown",
   "id": "f872a14a",
   "metadata": {},
   "source": [
    "## Data analysis"
   ]
  },
  {
   "cell_type": "code",
   "execution_count": null,
   "id": "87f2b836",
   "metadata": {},
   "outputs": [],
   "source": [
    "# Make a different dataframe for every month - or aggregate it\n",
    "# Test rmse and r^2 for different models"
   ]
  },
  {
   "cell_type": "code",
   "execution_count": null,
   "id": "c2d05fc9",
   "metadata": {},
   "outputs": [],
   "source": [
    "main.tail()"
   ]
  },
  {
   "cell_type": "code",
   "execution_count": null,
   "id": "f72f8d7d",
   "metadata": {},
   "outputs": [],
   "source": [
    "# RF\n",
    "# KNN\n",
    "# DecisionTree"
   ]
  },
  {
   "cell_type": "code",
   "execution_count": null,
   "id": "f5c26d48",
   "metadata": {},
   "outputs": [],
   "source": [
    "X = pd.DataFrame(np.c_[main['Dept'], main['Size']], columns = ['Dept','Size'])\n",
    "Y = main['Weekly_Sales']"
   ]
  },
  {
   "cell_type": "code",
   "execution_count": null,
   "id": "9e1e4f32",
   "metadata": {},
   "outputs": [],
   "source": [
    "X_train, X_test, Y_train, Y_test = sc.split_data(X, Y)\n",
    "print(type(Y))"
   ]
  },
  {
   "cell_type": "code",
   "execution_count": null,
   "id": "01c23ee9",
   "metadata": {},
   "outputs": [],
   "source": [
    "model = LinearRegression()\n",
    "model.fit(X_train, Y_train)"
   ]
  },
  {
   "cell_type": "code",
   "execution_count": null,
   "id": "14ff84ac",
   "metadata": {},
   "outputs": [],
   "source": [
    "er.error_calculator(model, X_train, Y_train, X_test, Y_test)"
   ]
  },
  {
   "cell_type": "code",
   "execution_count": null,
   "id": "f0a54710",
   "metadata": {
    "scrolled": true
   },
   "outputs": [],
   "source": [
    "\n",
    "months = ['All','January', 'February', 'March', 'April', 'May', 'June', 'July', 'August', 'September', 'October', 'November', 'December']\n",
    "\n",
    "\"\"\"\n",
    "month_dict = {\n",
    "    \"January\": 1,\n",
    "    \"February\": 2,\n",
    "    \"March\": 3,\n",
    "    \"April\": 4,\n",
    "    \"May\": 5,\n",
    "    \"June\": 6,\n",
    "    \"July\": 7,\n",
    "    \"August\": 8,\n",
    "    \"September\": 9,\n",
    "    \"October\": 10,\n",
    "    \"November\": 11,\n",
    "    \"December\": 12\n",
    "}\n",
    "\"\"\"\n",
    "\n",
    "toggle_buttons = widgets.ToggleButtons(\n",
    "    options=['Monthly Prediction', 'Annual Prediction'],\n",
    "    value='Monthly Prediction',\n",
    "    description='Options',\n",
    "    disabled=False,\n",
    "    button_style='info',\n",
    "    tooltips=['Predict monthwise sales', 'Predict sales on Annual basis']\n",
    ")\n",
    "\n",
    "toggle_buttons"
   ]
  },
  {
   "cell_type": "code",
   "execution_count": null,
   "id": "c0fb2460",
   "metadata": {},
   "outputs": [],
   "source": [
    "\n",
    "month_select = widgets.Dropdown(options = months, value = 'January', description = 'Month', disabled = False)\n",
    "if toggle_buttons.value == 'Annual Prediction':\n",
    "    month_select.disabled = True\n",
    "    month_select.value = 'All'\n",
    "month_select"
   ]
  },
  {
   "cell_type": "code",
   "execution_count": null,
   "id": "3fe6ef50",
   "metadata": {
    "scrolled": true
   },
   "outputs": [],
   "source": [
    "# Make dataframe according to the month that was selected\n",
    "# if it was all, leave the df as it was\n",
    "\n",
    "df = main\n",
    "df.head()\n",
    "\n",
    "if not month_select.value == 'All':\n",
    "    df.set_index(keys = ['Month'], drop = False, inplace = True)\n",
    "    df = df.loc[df.Month == months.index(month_select.value) + 1]\n",
    "df.head()"
   ]
  },
  {
   "cell_type": "code",
   "execution_count": null,
   "id": "fd767e12",
   "metadata": {},
   "outputs": [],
   "source": [
    "models = [\"KNN\", \"RandomForest\", \"DecisionTree\"]\n",
    "\n",
    "model_select = widgets.Dropdown(options = models, value = 'KNN', description = 'Algorithms', disabled = False)\n",
    "\n",
    "model_select"
   ]
  },
  {
   "cell_type": "code",
   "execution_count": null,
   "id": "0055989f",
   "metadata": {},
   "outputs": [],
   "source": [
    "df.head()"
   ]
  },
  {
   "cell_type": "code",
   "execution_count": null,
   "id": "7d8c680f",
   "metadata": {},
   "outputs": [],
   "source": [
    "X = pd.DataFrame(np.c_[#df['Store'],\n",
    "                       df['Dept'],\n",
    "                       df['Size'], \n",
    "                       #df['Temperature'],\n",
    "                       #df['Fuel_Price'],\n",
    "                       #df['CPI'],\n",
    "                       #df['Unemployment'],\n",
    "                       #df['Year'],\n",
    "                       df['IsHoliday'],\n",
    "                       df['MarkDown3'],\n",
    "                       df['Type'],\n",
    "                       df['Month']],\n",
    "                 \n",
    "                 columns = [#'Store',\n",
    "                            'Dept',\n",
    "                            'Size',\n",
    "                            #'Temperature',\n",
    "                            #'Fuel_Price',\n",
    "                            #'CPI',\n",
    "                            #'Unemployment',\n",
    "                            #'Year',\n",
    "                            'IsHoliday',\n",
    "                            'MarkDown3',\n",
    "                            'Type',\n",
    "                            'Month'])\n",
    "Y = df['Weekly_Sales']\n",
    "t = pd.get_dummies(X.Type)\n",
    "X = pd.concat([X, t], axis='columns')\n",
    "X = X.drop(columns=['Type'])\n",
    "X.info()"
   ]
  },
  {
   "cell_type": "code",
   "execution_count": null,
   "id": "7b8a3523",
   "metadata": {},
   "outputs": [],
   "source": [
    "X_train, X_test, Y_train, Y_test = sc.split_data(X, Y)\n",
    "print(type(Y))"
   ]
  },
  {
   "cell_type": "code",
   "execution_count": null,
   "id": "52b77f59",
   "metadata": {},
   "outputs": [],
   "source": [
    "X_train, X_test = sc.standard(X_train, X_test)\n"
   ]
  },
  {
   "cell_type": "code",
   "execution_count": null,
   "id": "6ff6a91d",
   "metadata": {},
   "outputs": [],
   "source": [
    "if(model_select.value == \"KNN\"):\n",
    "    model, y_pred = knn_i.prediction(X_train,Y_train, X_test, Y_test)\n",
    "elif (model_select.value == \"RandomForest\"):\n",
    "    model, y_pred = rf.prediction(X_train,Y_train, X_test, Y_test)\n",
    "elif (model_select.value == \"DecisionTree\"):\n",
    "    model, y_pred = lr.prediction(X_train,Y_train, X_test, Y_test)\n",
    "\n",
    "er.error_calculator(model, X_train, Y_train, X_test, Y_test)\n",
    "plt.scatter(Y_test, y_pred)"
   ]
  },
  {
   "cell_type": "code",
   "execution_count": null,
   "id": "da254e64",
   "metadata": {},
   "outputs": [],
   "source": [
    "X.head()"
   ]
  },
  {
   "cell_type": "code",
   "execution_count": null,
   "id": "dce1dc43",
   "metadata": {},
   "outputs": [],
   "source": [
    "pd.DataFrame(y_pred)"
   ]
  },
  {
   "cell_type": "markdown",
   "id": "b6f2f0bf",
   "metadata": {},
   "source": [
    "## References\n",
    "\n",
    "- https://ipywidgets.readthedocs.io/en/latest/examples/Widget%20List.html\n",
    "- https://pandas.pydata.org/pandas-docs/stable/user_guide/merging.html\n",
    "- https://medium.com/analytics-vidhya/walmart-sales-forecasting-d6bd537e4904\n",
    "- https://stackoverflow.com/questions/5137497/find-current-directory-and-files-directory\n",
    "- https://stackoverflow.com/questions/19790790/splitting-dataframe-into-multiple-dataframes\n",
    "- https://stackoverflow.com/questions/38913965/make-the-size-of-a-heatmap-bigger-with-seaborn\n",
    "- https://datascience.stackexchange.com/questions/9159/when-to-choose-linear-regression-or-decision-tree-or-random-forest-regression"
   ]
  },
  {
   "cell_type": "code",
   "execution_count": null,
   "id": "4d605b6b",
   "metadata": {},
   "outputs": [],
   "source": []
  }
 ],
 "metadata": {
  "kernelspec": {
   "display_name": "Python 3",
   "language": "python",
   "name": "python3"
  },
  "language_info": {
   "codemirror_mode": {
    "name": "ipython",
    "version": 3
   },
   "file_extension": ".py",
   "mimetype": "text/x-python",
   "name": "python",
   "nbconvert_exporter": "python",
   "pygments_lexer": "ipython3",
   "version": "3.8.5"
  }
 },
 "nbformat": 4,
 "nbformat_minor": 5
}
